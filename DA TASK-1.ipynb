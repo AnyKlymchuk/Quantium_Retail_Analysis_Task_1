{
 "cells": [
  {
   "cell_type": "code",
   "execution_count": 1,
   "id": "d407b2ec",
   "metadata": {},
   "outputs": [],
   "source": [
    "import numpy as np\n",
    "import pandas as pd\n",
    "import matplotlib.pyplot as plt\n",
    "%matplotlib inline\n",
    "import seaborn as sns"
   ]
  },
  {
   "cell_type": "code",
   "execution_count": 2,
   "id": "5b15069d",
   "metadata": {},
   "outputs": [],
   "source": [
    "pur_bvr = pd.read_csv(\"QVI_purchase_behaviour.csv\")"
   ]
  },
  {
   "cell_type": "code",
   "execution_count": null,
   "id": "1db5e2c5",
   "metadata": {},
   "outputs": [],
   "source": [
    "tran_data = pd.read_excel(\"QVI_transaction_data.xlsx\")"
   ]
  },
  {
   "cell_type": "code",
   "execution_count": null,
   "id": "4f24fc18",
   "metadata": {},
   "outputs": [],
   "source": [
    "data_frame1.head(5)"
   ]
  },
  {
   "cell_type": "code",
   "execution_count": null,
   "id": "f5522424",
   "metadata": {},
   "outputs": [],
   "source": [
    "data_frame2.head(5)"
   ]
  },
  {
   "cell_type": "code",
   "execution_count": null,
   "id": "334081d6",
   "metadata": {},
   "outputs": [],
   "source": [
    "data_frame1.tail(5)"
   ]
  },
  {
   "cell_type": "code",
   "execution_count": null,
   "id": "d45fc5f3",
   "metadata": {},
   "outputs": [],
   "source": [
    "data_frame2.tail(5)"
   ]
  },
  {
   "cell_type": "code",
   "execution_count": null,
   "id": "a14a9a90",
   "metadata": {},
   "outputs": [],
   "source": [
    "data_frame1.info()"
   ]
  },
  {
   "cell_type": "code",
   "execution_count": null,
   "id": "5280d323",
   "metadata": {},
   "outputs": [],
   "source": [
    "data_frame2.info()"
   ]
  },
  {
   "cell_type": "code",
   "execution_count": null,
   "id": "fb813712",
   "metadata": {},
   "outputs": [],
   "source": [
    "data_frame1.describe()"
   ]
  },
  {
   "cell_type": "code",
   "execution_count": null,
   "id": "1971cf2b",
   "metadata": {},
   "outputs": [],
   "source": [
    "data_frame2.describe()"
   ]
  },
  {
   "cell_type": "code",
   "execution_count": null,
   "id": "77cb1f80",
   "metadata": {},
   "outputs": [],
   "source": [
    "data_frame1.dtypes"
   ]
  },
  {
   "cell_type": "code",
   "execution_count": null,
   "id": "25e3d20e",
   "metadata": {},
   "outputs": [],
   "source": [
    "data_frame2.dtypes"
   ]
  },
  {
   "cell_type": "code",
   "execution_count": null,
   "id": "1dcf6206",
   "metadata": {},
   "outputs": [],
   "source": [
    "data_frame1.isnull().sum()"
   ]
  },
  {
   "cell_type": "code",
   "execution_count": null,
   "id": "85f66275",
   "metadata": {},
   "outputs": [],
   "source": [
    "data_frame2.isnull().sum()"
   ]
  },
  {
   "cell_type": "code",
   "execution_count": null,
   "id": "c4715c44",
   "metadata": {},
   "outputs": [],
   "source": [
    "merge_data = pd.merge(data_frame1, data_frame2, on = \"LYLTY_CARD_NBR\", how = \"right\")"
   ]
  },
  {
   "cell_type": "code",
   "execution_count": null,
   "id": "34ae1297",
   "metadata": {},
   "outputs": [],
   "source": [
    "merge_data"
   ]
  },
  {
   "cell_type": "code",
   "execution_count": null,
   "id": "3aeba2ae",
   "metadata": {},
   "outputs": [],
   "source": [
    "merge_data.describe()"
   ]
  },
  {
   "cell_type": "code",
   "execution_count": null,
   "id": "fc4c646f",
   "metadata": {},
   "outputs": [],
   "source": [
    "merge_data.info()"
   ]
  },
  {
   "cell_type": "code",
   "execution_count": null,
   "id": "51b38f10",
   "metadata": {},
   "outputs": [],
   "source": [
    "merge_data.isnull().sum()"
   ]
  },
  {
   "cell_type": "code",
   "execution_count": null,
   "id": "d4e29213",
   "metadata": {},
   "outputs": [],
   "source": [
    "len(merge_data)"
   ]
  },
  {
   "cell_type": "code",
   "execution_count": null,
   "id": "3f73e3f9",
   "metadata": {},
   "outputs": [],
   "source": [
    "#Date column should be data time format"
   ]
  },
  {
   "cell_type": "code",
   "execution_count": null,
   "id": "0469d537",
   "metadata": {},
   "outputs": [],
   "source": [
    "data_frame2[\"DATE\"] = data_frame2[\"DATE\"].apply(pd.to_datetime, errors = \"coerce\").dt.date"
   ]
  },
  {
   "cell_type": "code",
   "execution_count": null,
   "id": "d499b45e",
   "metadata": {},
   "outputs": [],
   "source": [
    "data_frame2[\"DATE\"]"
   ]
  },
  {
   "cell_type": "code",
   "execution_count": null,
   "id": "e3c07a34",
   "metadata": {},
   "outputs": [],
   "source": [
    "data_frame2.dtypes"
   ]
  },
  {
   "cell_type": "code",
   "execution_count": null,
   "id": "854dc63d",
   "metadata": {},
   "outputs": [],
   "source": [
    "data_frame2[\"PROD_NAME\"].value_counts()"
   ]
  },
  {
   "cell_type": "code",
   "execution_count": null,
   "id": "d75a7a8b",
   "metadata": {},
   "outputs": [],
   "source": [
    "data_frame2[\"PROD_NAME\"].nunique()"
   ]
  },
  {
   "cell_type": "code",
   "execution_count": null,
   "id": "93887d74",
   "metadata": {},
   "outputs": [],
   "source": [
    "data_frame2[\"PROD_NAME\"].unique()"
   ]
  },
  {
   "cell_type": "code",
   "execution_count": null,
   "id": "fa6b9223",
   "metadata": {},
   "outputs": [],
   "source": [
    "data_frame2[\"PROD_NAME\"].describe()"
   ]
  },
  {
   "cell_type": "code",
   "execution_count": null,
   "id": "9faaee90",
   "metadata": {},
   "outputs": [],
   "source": [
    "len(data_frame2[data_frame2[\"PROD_NAME\"].str.contains(\"Chips\")])"
   ]
  },
  {
   "cell_type": "code",
   "execution_count": null,
   "id": "21b097a3",
   "metadata": {},
   "outputs": [],
   "source": [
    "len(data_frame2[data_frame2[\"PROD_NAME\"].str.contains(\"Smiths\")])"
   ]
  },
  {
   "cell_type": "code",
   "execution_count": null,
   "id": "98601c10",
   "metadata": {},
   "outputs": [],
   "source": [
    "len(data_frame2[data_frame2[\"PROD_NAME\"].str.contains(\"Kettle\")])"
   ]
  },
  {
   "cell_type": "code",
   "execution_count": null,
   "id": "0becad80",
   "metadata": {},
   "outputs": [],
   "source": [
    "len(data_frame2[data_frame2[\"PROD_NAME\"].str.contains(\"Salt\")])"
   ]
  },
  {
   "cell_type": "code",
   "execution_count": null,
   "id": "826bc460",
   "metadata": {},
   "outputs": [],
   "source": [
    "len(data_frame2[data_frame2[\"PROD_NAME\"].str.contains(\"Cheese\")])"
   ]
  },
  {
   "cell_type": "code",
   "execution_count": null,
   "id": "ee853c63",
   "metadata": {},
   "outputs": [],
   "source": [
    "new_prodname = data_frame2[\"PROD_NAME\"].str.replace(r'([0-9]+[gG])','').str.replace(r'[^\\w]',' ').str.split()"
   ]
  },
  {
   "cell_type": "code",
   "execution_count": null,
   "id": "f2b0a17f",
   "metadata": {},
   "outputs": [],
   "source": [
    "new_prodname"
   ]
  },
  {
   "cell_type": "code",
   "execution_count": null,
   "id": "c8360f87",
   "metadata": {},
   "outputs": [],
   "source": [
    "dic = {}\n",
    "def func(x):\n",
    "    for i in x:\n",
    "        if i not in dic:\n",
    "            dic[i] = 1\n",
    "        else:\n",
    "            dic[i] += 1\n",
    "new_prodname.apply(lambda x:func(x))\n",
    "print(pd.Series(dic).sort_values(ascending = False))"
   ]
  },
  {
   "cell_type": "code",
   "execution_count": null,
   "id": "eb15ce5e",
   "metadata": {},
   "outputs": [],
   "source": [
    "data_frame2[\"PROD_NAME\"].value_counts()"
   ]
  },
  {
   "cell_type": "code",
   "execution_count": null,
   "id": "060e0214",
   "metadata": {},
   "outputs": [],
   "source": [
    "data_frame2.drop(data_frame2[data_frame2[\"PROD_NAME\"].str.contains(\"Salsa\")].index,inplace = True)"
   ]
  },
  {
   "cell_type": "code",
   "execution_count": null,
   "id": "4e78fbab",
   "metadata": {},
   "outputs": [],
   "source": [
    "data_frame2[data_frame2[\"PROD_NAME\"].str.contains(\"Salsa\")]"
   ]
  },
  {
   "cell_type": "code",
   "execution_count": null,
   "id": "46a64fb3",
   "metadata": {},
   "outputs": [],
   "source": [
    "data_frame2"
   ]
  },
  {
   "cell_type": "code",
   "execution_count": null,
   "id": "451e065e",
   "metadata": {},
   "outputs": [],
   "source": [
    "#product quantity"
   ]
  },
  {
   "cell_type": "code",
   "execution_count": null,
   "id": "b691ad20",
   "metadata": {},
   "outputs": [],
   "source": [
    "sns.boxplot(data =data_frame2, x = \"PROD_QTY\")"
   ]
  },
  {
   "cell_type": "code",
   "execution_count": null,
   "id": "aa32880f",
   "metadata": {},
   "outputs": [],
   "source": [
    "data_frame2[\"PROD_QTY\"].aggregate(max)"
   ]
  },
  {
   "cell_type": "code",
   "execution_count": null,
   "id": "6d0b5470",
   "metadata": {},
   "outputs": [],
   "source": [
    "data_frame2[data_frame2[\"PROD_QTY\"].isin([200])]"
   ]
  },
  {
   "cell_type": "code",
   "execution_count": null,
   "id": "d6110034",
   "metadata": {},
   "outputs": [],
   "source": [
    "data_frame2[data_frame2[\"PROD_QTY\"]>5]"
   ]
  },
  {
   "cell_type": "code",
   "execution_count": null,
   "id": "a8235e95",
   "metadata": {},
   "outputs": [],
   "source": [
    "data_frame2.drop(data_frame2[data_frame2[\"PROD_QTY\"].astype(str).str.contains(\"200\")].index, inplace = True)"
   ]
  },
  {
   "cell_type": "code",
   "execution_count": null,
   "id": "899701cf",
   "metadata": {},
   "outputs": [],
   "source": [
    "data_frame2"
   ]
  },
  {
   "cell_type": "code",
   "execution_count": null,
   "id": "0f53b117",
   "metadata": {},
   "outputs": [],
   "source": [
    "data_frame2[\"DATE\"].describe()"
   ]
  },
  {
   "cell_type": "code",
   "execution_count": null,
   "id": "94c61276",
   "metadata": {},
   "outputs": [],
   "source": [
    "date_count = data_frame2.groupby(\"DATE\").count()\n",
    "date_count"
   ]
  },
  {
   "cell_type": "code",
   "execution_count": null,
   "id": "019eea7f",
   "metadata": {},
   "outputs": [],
   "source": [
    "def func(x):\n",
    "    lst=[]\n",
    "    for i in x:\n",
    "        if x in ['0','1','2','3','4','5','6','7','8','9']:\n",
    "            lst.append(i)\n",
    "    return (\"\".join(lst))\n",
    "        "
   ]
  },
  {
   "cell_type": "code",
   "execution_count": null,
   "id": "186d1749",
   "metadata": {},
   "outputs": [],
   "source": [
    "data_frame2[\"pack_size\"] =data_frame2[\"PROD_NAME\"].apply(func)\n",
    "data_frame2"
   ]
  },
  {
   "cell_type": "code",
   "execution_count": null,
   "id": "98c6b1de",
   "metadata": {},
   "outputs": [],
   "source": [
    "sns.displot(data_frame2['pack_size'])"
   ]
  },
  {
   "cell_type": "code",
   "execution_count": null,
   "id": "b12c8abb",
   "metadata": {},
   "outputs": [],
   "source": [
    "sns.countplot(data_frame2[\"pack_size\"])"
   ]
  },
  {
   "cell_type": "code",
   "execution_count": null,
   "id": "557c57db",
   "metadata": {},
   "outputs": [],
   "source": [
    "sns.heatmap(data_frame2.corr())"
   ]
  },
  {
   "cell_type": "code",
   "execution_count": null,
   "id": "979a527c",
   "metadata": {},
   "outputs": [],
   "source": [
    "sns.pairplot(data_frame2[data_frame2.columns.drop(\"PROD_NAME\")])"
   ]
  },
  {
   "cell_type": "code",
   "execution_count": null,
   "id": "f65257f4",
   "metadata": {},
   "outputs": [],
   "source": [
    "#Purchase --> data_frame1"
   ]
  },
  {
   "cell_type": "code",
   "execution_count": null,
   "id": "dfff039b",
   "metadata": {},
   "outputs": [],
   "source": [
    "data_frame1.describe()"
   ]
  },
  {
   "cell_type": "code",
   "execution_count": null,
   "id": "a00cdaba",
   "metadata": {},
   "outputs": [],
   "source": [
    "data_frame1.isna().sum()"
   ]
  },
  {
   "cell_type": "code",
   "execution_count": null,
   "id": "c088481e",
   "metadata": {},
   "outputs": [],
   "source": [
    "sns.barplot(data_frame1[\"LIFESTAGE\"])"
   ]
  },
  {
   "cell_type": "code",
   "execution_count": null,
   "id": "a4ab604a",
   "metadata": {},
   "outputs": [],
   "source": [
    "merge_data[[\"TOT_SALES\",\"PREMIUM_CUSTOMER\"]].groupby(\"PREMIUM_CUSTOMER\").sum().sort_values(by = \"TOT_SALES\", ascending = False)"
   ]
  },
  {
   "cell_type": "code",
   "execution_count": null,
   "id": "540ff9dc",
   "metadata": {},
   "outputs": [],
   "source": [
    "new = merge_data[[\"LIFESTAGE\",\"PREMIUM_CUSTOMER\",\"TOT_SALES\"]].groupby([\"LIFESTAGE\",\"PREMIUM_CUSTOMER\"]).sum()\n",
    "new"
   ]
  },
  {
   "cell_type": "code",
   "execution_count": null,
   "id": "41967124",
   "metadata": {},
   "outputs": [],
   "source": [
    "plt.figure(figsize=(15,8))\n",
    "sns.barplot(x = new.reset_index()[\"LIFESTAGE\"], Y =new.reset_index()[\"TOT_SALES\"], hue = new.reset_index()[\"PREMIUM_CUSTOMER\"])"
   ]
  },
  {
   "cell_type": "code",
   "execution_count": null,
   "id": "f1a1a248",
   "metadata": {},
   "outputs": [],
   "source": [
    "df = pd.read_csv(r\"C:\\Users\\ELCOT\\Downloads\\QVI_data.csv\")"
   ]
  },
  {
   "cell_type": "code",
   "execution_count": null,
   "id": "3f5d95ef",
   "metadata": {},
   "outputs": [],
   "source": [
    "df"
   ]
  },
  {
   "cell_type": "code",
   "execution_count": null,
   "id": "a49ecb3e",
   "metadata": {},
   "outputs": [],
   "source": [
    "df.dtypes"
   ]
  },
  {
   "cell_type": "code",
   "execution_count": null,
   "id": "ddc11151",
   "metadata": {},
   "outputs": [],
   "source": [
    "new1 = merge_data.groupby([\"PREMIUM_CUSTOMER\",\"LIFESTAGE\"]).count()\n",
    "new"
   ]
  },
  {
   "cell_type": "code",
   "execution_count": null,
   "id": "17af5137",
   "metadata": {},
   "outputs": [],
   "source": [
    "new = merge_data[[\"LIFESTAGE\",\"PREMIUM_CUSTOMER\",\"TOT_SALES\"]].groupby([\"LIFESTAGE\",\"PREMIUM_CUSTOMER\"]).mean()\n",
    "new"
   ]
  },
  {
   "cell_type": "code",
   "execution_count": null,
   "id": "f70922e2",
   "metadata": {},
   "outputs": [],
   "source": [
    "midage=new[(new['PREMIUM_CUSTOMER']=='Mainstream') & (new['LIFESTAGE']=='MIDAGE SINGLES/COUPLES')].value_counts()\n",
    "youngage=new[(new['PREMIUM_CUSTOMER']=='Mainstream') & (new['LIFESTAGE']=='YOUNG SINGLES/COUPLES')].value_counts()"
   ]
  },
  {
   "cell_type": "code",
   "execution_count": null,
   "id": "915dd1c3",
   "metadata": {},
   "outputs": [],
   "source": [
    "#Kettle, Smiths and Doritos are popular among MIDAGE and Kettle, Pringles and Doritos are popular among YOUNG\n",
    "#both the segments buy 175g,150g and 134  packets mostly"
   ]
  },
  {
   "cell_type": "code",
   "execution_count": null,
   "id": "d9f63ae7",
   "metadata": {},
   "outputs": [],
   "source": []
  },
  {
   "cell_type": "code",
   "execution_count": null,
   "id": "0742330c",
   "metadata": {},
   "outputs": [],
   "source": []
  }
 ],
 "metadata": {
  "kernelspec": {
   "display_name": "Python 3 (ipykernel)",
   "language": "python",
   "name": "python3"
  },
  "language_info": {
   "codemirror_mode": {
    "name": "ipython",
    "version": 3
   },
   "file_extension": ".py",
   "mimetype": "text/x-python",
   "name": "python",
   "nbconvert_exporter": "python",
   "pygments_lexer": "ipython3",
   "version": "3.11.6"
  }
 },
 "nbformat": 4,
 "nbformat_minor": 5
}
